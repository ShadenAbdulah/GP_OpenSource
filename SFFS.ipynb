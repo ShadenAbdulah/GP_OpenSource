{
 "cells": [
  {
   "cell_type": "markdown",
   "metadata": {},
   "source": [
    "# SFFS"
   ]
  },
  {
   "cell_type": "markdown",
   "metadata": {},
   "source": [
    "## imports"
   ]
  },
  {
   "cell_type": "code",
   "execution_count": null,
   "metadata": {},
   "outputs": [],
   "source": [
    "import pandas as pd\n",
    "import numpy as np\n",
    "\n",
    "from sklearn.model_selection import train_test_split\n",
    "from mlxtend.feature_selection import SequentialFeatureSelector as SFS\n",
    "from sklearn.model_selection import LeaveOneOut\n",
    "from sklearn.model_selection import GridSearchCV\n",
    "from sklearn.preprocessing import StandardScaler\n",
    "\n",
    "## Classifiers\n",
    "from sklearn.svm import SVC\n",
    "from sklearn.neighbors import KNeighborsClassifier\n",
    "from sklearn.tree import DecisionTreeClassifier\n",
    "from sklearn.ensemble import RandomForestClassifier"
   ]
  },
  {
   "cell_type": "markdown",
   "metadata": {},
   "source": [
    "## Read and prepare data"
   ]
  },
  {
   "cell_type": "code",
   "execution_count": null,
   "metadata": {},
   "outputs": [],
   "source": [
    "task_name = 'ZL_trace' \n",
    "# [ZL_trace, ZL_predict, PL_trace, PL_predict]"
   ]
  },
  {
   "cell_type": "code",
   "execution_count": null,
   "metadata": {},
   "outputs": [],
   "source": [
    "f=pd.read_csv(f'Datasets/Full_DS/{task_name}.csv')\n",
    "df = f.to_numpy()\n",
    "df.shape"
   ]
  },
  {
   "cell_type": "code",
   "execution_count": null,
   "metadata": {},
   "outputs": [],
   "source": [
    "y = f['Class'].values\n",
    "X = f.drop('Class', axis=1).values\n",
    "\n",
    "y=y.astype('int')\n",
    "X_train, X_test, y_train, y_test = train_test_split(X, y, test_size=0.3, random_state=1)"
   ]
  },
  {
   "cell_type": "code",
   "execution_count": null,
   "metadata": {},
   "outputs": [],
   "source": [
    "cv = LeaveOneOut()"
   ]
  },
  {
   "cell_type": "markdown",
   "metadata": {},
   "source": [
    "## SVM"
   ]
  },
  {
   "cell_type": "code",
   "execution_count": null,
   "metadata": {},
   "outputs": [],
   "source": [
    "tuned_parameters = {'C': [0.0001, 0.001, 0.01, 0.1, 1, 10, 100, 1000], \n",
    "                    'kernel': ['rbf'], \n",
    "                    'gamma': [0.00001, 0.0001, 0.001, 0.01, 0.1, 1]\n",
    "                    }"
   ]
  },
  {
   "cell_type": "code",
   "execution_count": null,
   "metadata": {},
   "outputs": [],
   "source": [
    "best_acc = 0\n",
    "re = pd.DataFrame()\n",
    "stdsc = StandardScaler()\n",
    "X_std = stdsc.fit_transform(X)"
   ]
  },
  {
   "cell_type": "code",
   "execution_count": null,
   "metadata": {},
   "outputs": [],
   "source": [
    "for i in range(1,X.shape[1]+1):\n",
    "    sffs = SFS(\n",
    "       SVC(),\n",
    "        k_features=i,\n",
    "        forward=True,\n",
    "        floating=True,\n",
    "        verbose=2,\n",
    "        scoring='accuracy',\n",
    "        cv=cv,\n",
    "        n_jobs=-1\n",
    "    )\n",
    "    \n",
    "    sffs = sffs.fit(X_std, y)\n",
    "\n",
    "    X_train_sffs = X_std[:,list(sffs.k_feature_idx_)]\n",
    "\n",
    "    X_train_sffs_std = stdsc.fit_transform(X_train_sffs)\n",
    "    \n",
    "    gs = GridSearchCV(\n",
    "        SVC(),\n",
    "        tuned_parameters,\n",
    "        verbose=1,\n",
    "        cv=cv,\n",
    "        n_jobs=-1\n",
    "    )\n",
    "\n",
    "    gs.fit(X_train_sffs_std, y)\n",
    "\n",
    "    print(gs.best_score_, gs.best_params_)\n",
    "\n",
    "    if gs.best_score_ > best_acc:\n",
    "        best_acc = gs.best_score_\n",
    "\n",
    "    re_i = pd.DataFrame([[sffs.k_feature_idx_,gs.best_score_,gs.best_params_]],\n",
    "                        columns=['Feature','accuracy','param'])\n",
    "\n",
    "    re = pd.concat([re,re_i])\n",
    "\n",
    "re.to_csv(f'SFFS/SVM/{task_name}.csv')"
   ]
  },
  {
   "cell_type": "markdown",
   "metadata": {},
   "source": [
    "## KNN"
   ]
  },
  {
   "cell_type": "code",
   "execution_count": null,
   "metadata": {},
   "outputs": [],
   "source": [
    "tuned_parameters = {\n",
    "    'n_neighbors': np.arange(1, 20),\n",
    "    'weights': ['uniform', 'distance'],\n",
    "    'p': [1, 2]\n",
    "}"
   ]
  },
  {
   "cell_type": "code",
   "execution_count": null,
   "metadata": {},
   "outputs": [],
   "source": [
    "best_acc = 0\n",
    "re = pd.DataFrame()\n",
    "stdsc = StandardScaler()\n",
    "X_std = stdsc.fit_transform(X)"
   ]
  },
  {
   "cell_type": "code",
   "execution_count": null,
   "metadata": {},
   "outputs": [],
   "source": [
    "for i in range(1,X.shape[1]+1):\n",
    "    sffs = SFS(\n",
    "       KNeighborsClassifier(),\n",
    "        k_features=i,\n",
    "        forward=True,\n",
    "        floating=True,\n",
    "        verbose=2,\n",
    "        scoring='accuracy',\n",
    "        cv=cv,\n",
    "        n_jobs=-1\n",
    "    )\n",
    "    \n",
    "    sffs = sffs.fit(X_std, y)\n",
    "\n",
    "    X_train_sffs = X_std[:,list(sffs.k_feature_idx_)]\n",
    "\n",
    "    X_train_sffs_std = stdsc.fit_transform(X_train_sffs)\n",
    "    \n",
    "    gs = GridSearchCV(\n",
    "        KNeighborsClassifier(),\n",
    "        tuned_parameters,\n",
    "        verbose=1,\n",
    "        cv=cv,\n",
    "        n_jobs=-1\n",
    "    )\n",
    "\n",
    "    gs.fit(X_train_sffs_std, y)\n",
    "\n",
    "    print(gs.best_score_, gs.best_params_)\n",
    "\n",
    "    if gs.best_score_ > best_acc:\n",
    "        best_acc = gs.best_score_\n",
    "\n",
    "    re_i = pd.DataFrame([[sffs.k_feature_idx_,gs.best_score_,gs.best_params_]],\n",
    "                        columns=['Feature','accuracy','param'])\n",
    "\n",
    "    re = pd.concat([re,re_i])\n",
    "\n",
    "re.to_csv(f'SFFS/KNN/{task_name}.csv')"
   ]
  },
  {
   "cell_type": "markdown",
   "metadata": {},
   "source": [
    "## DT"
   ]
  },
  {
   "cell_type": "code",
   "execution_count": null,
   "metadata": {},
   "outputs": [],
   "source": [
    "tuned_parameters = {'max_depth':[1, 2, 3, 4, 5],\n",
    "         'min_samples_leaf':[1, 2, 3, 4, 5, 6, 7, 8, 9, 10],\n",
    "         'min_samples_split':[2, 3, 4, 5]}"
   ]
  },
  {
   "cell_type": "code",
   "execution_count": null,
   "metadata": {},
   "outputs": [],
   "source": [
    "best_acc = 0\n",
    "re = pd.DataFrame()\n",
    "stdsc = StandardScaler()\n",
    "X_std = stdsc.fit_transform(X)"
   ]
  },
  {
   "cell_type": "code",
   "execution_count": null,
   "metadata": {},
   "outputs": [],
   "source": [
    "for i in range(1,X.shape[1]+1):\n",
    "    sffs = SFS(\n",
    "       DecisionTreeClassifier(random_state=0),\n",
    "        k_features=i,\n",
    "        forward=True,\n",
    "        floating=True,\n",
    "        verbose=2,\n",
    "        scoring='accuracy',\n",
    "        cv=cv,\n",
    "        n_jobs=-1\n",
    "    )\n",
    "    \n",
    "    sffs = sffs.fit(X_std, y)\n",
    "\n",
    "    X_train_sffs = X_std[:,list(sffs.k_feature_idx_)]\n",
    "\n",
    "    X_train_sffs_std = stdsc.fit_transform(X_train_sffs)\n",
    "    \n",
    "    gs = GridSearchCV(\n",
    "        DecisionTreeClassifier(random_state=0),\n",
    "        tuned_parameters,\n",
    "        verbose=1,\n",
    "        cv=cv,\n",
    "        n_jobs=-1\n",
    "    )\n",
    "\n",
    "    gs.fit(X_train_sffs_std, y)\n",
    "\n",
    "    print(gs.best_score_, gs.best_params_)\n",
    "\n",
    "    if gs.best_score_ > best_acc:\n",
    "        best_acc = gs.best_score_\n",
    "\n",
    "    re_i = pd.DataFrame([[sffs.k_feature_idx_,gs.best_score_,gs.best_params_]],\n",
    "                        columns=['Feature','accuracy','param'])\n",
    "\n",
    "    re = pd.concat([re,re_i])\n",
    "\n",
    "re.to_csv(f'SFFS/DT/{task_name}.csv')"
   ]
  },
  {
   "cell_type": "markdown",
   "metadata": {},
   "source": [
    "## RF"
   ]
  },
  {
   "cell_type": "markdown",
   "metadata": {},
   "source": [
    "tuned_parameters = {\n",
    "    \"max_depth\": [2,3,5,10, None],\n",
    "    \"n_estimators\":[50,100,200,300,400],\n",
    "    \"min_samples_split\": [2, 3, 10],\n",
    "    \"min_samples_leaf\": [1, 3, 10],\n",
    "    \"bootstrap\": [True],\n",
    "    \"criterion\": [\"gini\"]\n",
    "}"
   ]
  },
  {
   "cell_type": "code",
   "execution_count": null,
   "metadata": {},
   "outputs": [],
   "source": [
    "best_acc = 0\n",
    "re = pd.DataFrame()\n",
    "stdsc = StandardScaler()\n",
    "X_std = stdsc.fit_transform(X)"
   ]
  },
  {
   "cell_type": "code",
   "execution_count": null,
   "metadata": {},
   "outputs": [],
   "source": [
    "for i in range(1,X.shape[1]+1):\n",
    "    sffs = SFS(\n",
    "       RandomForestClassifier(random_state=0),\n",
    "        k_features=i,\n",
    "        forward=True,\n",
    "        floating=True,\n",
    "        verbose=2,\n",
    "        scoring='accuracy',\n",
    "        cv=cv,\n",
    "        n_jobs=-1\n",
    "    )\n",
    "    \n",
    "    sffs = sffs.fit(X_std, y)\n",
    "\n",
    "    X_train_sffs = X_std[:,list(sffs.k_feature_idx_)]\n",
    "\n",
    "    X_train_sffs_std = stdsc.fit_transform(X_train_sffs)\n",
    "    \n",
    "    gs = GridSearchCV(\n",
    "        RandomForestClassifier(random_state=0),\n",
    "        tuned_parameters,\n",
    "        verbose=1,\n",
    "        cv=cv,\n",
    "        n_jobs=-1\n",
    "    )\n",
    "\n",
    "    gs.fit(X_train_sffs_std, y)\n",
    "\n",
    "    print(gs.best_score_, gs.best_params_)\n",
    "\n",
    "    if gs.best_score_ > best_acc:\n",
    "        best_acc = gs.best_score_\n",
    "\n",
    "    re_i = pd.DataFrame([[sffs.k_feature_idx_,gs.best_score_,gs.best_params_]],\n",
    "                        columns=['Feature','accuracy','param'])\n",
    "\n",
    "    re = pd.concat([re,re_i])\n",
    "\n",
    "re.to_csv(f'SFFS/RF/{task_name}.csv')"
   ]
  }
 ],
 "metadata": {
  "language_info": {
   "name": "python"
  }
 },
 "nbformat": 4,
 "nbformat_minor": 2
}
